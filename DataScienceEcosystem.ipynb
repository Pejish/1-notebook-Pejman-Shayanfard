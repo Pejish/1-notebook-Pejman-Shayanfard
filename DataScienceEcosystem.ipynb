{
 "cells": [
  {
   "cell_type": "markdown",
   "id": "27825424",
   "metadata": {},
   "source": [
    "# Data Science Tools and Ecosystem\n"
   ]
  },
  {
   "cell_type": "markdown",
   "id": "eda45f4f",
   "metadata": {},
   "source": [
    "**Data Science Tools and Ecosystem**\n"
   ]
  },
  {
   "cell_type": "markdown",
   "id": "fe7aafcf",
   "metadata": {},
   "source": [
    "***In this notebook, Data Science Tools and Ecosystem are summarized***"
   ]
  },
  {
   "cell_type": "markdown",
   "id": "4c8e8e06",
   "metadata": {},
   "source": [
    "**Objectives:**\n",
    "\n",
    "- List popular languages for Data Science.\n",
    "- Make unordered list in Markdown.\n",
    "- Make ordered list in Markdown.\n",
    "- Make table in Markdown.\n",
    "- Evaluating Arithmetic Expressions in Python\n",
    "- Demonstrate basic data manipulation techniques.\n",
    "- Showcase the use of machine learning algorithms in real-world problems."
   ]
  },
  {
   "cell_type": "markdown",
   "id": "0a556f65",
   "metadata": {},
   "source": [
    "*Some of the popular languages that Data Scientists use are:*\n",
    "\n",
    "1. Python\n",
    "2. R\n",
    "3. SQL\n",
    "\n"
   ]
  },
  {
   "cell_type": "markdown",
   "id": "73b50962",
   "metadata": {},
   "source": [
    "*Some of the commonly used libraries used by Data Scientists include:*\n",
    "1. Pandas\n",
    "2. Numpy\n",
    "3. Matplotlib"
   ]
  },
  {
   "cell_type": "markdown",
   "id": "0411c20c",
   "metadata": {},
   "source": [
    "| Data Science Tools                   |\n",
    "|-------------------------------------|\n",
    "| 1. Jupyter Notebook                 |\n",
    "| 2. RStudio                          |\n",
    "| 3. Apache Zeppelin                  |\n",
    "\n"
   ]
  },
  {
   "cell_type": "markdown",
   "id": "ce6dfd68",
   "metadata": {},
   "source": [
    "### Examples of Evaluating Arithmetic Expressions in Python\n",
    "\n",
    "<font color=\"blue\">Below are a few examples of evaluating arithmetic expressions in Python:</font>\n"
   ]
  },
  {
   "cell_type": "code",
   "execution_count": 3,
   "id": "8cda7017",
   "metadata": {},
   "outputs": [
    {
     "name": "stdout",
     "output_type": "stream",
     "text": [
      "17\n"
     ]
    }
   ],
   "source": [
    "# This is a simple arithmetic expression to multiply then add integers.\n",
    "result = (3 * 4) + 5\n",
    "print(result)\n"
   ]
  },
  {
   "cell_type": "code",
   "execution_count": 8,
   "id": "22edd4c2",
   "metadata": {},
   "outputs": [
    {
     "name": "stdout",
     "output_type": "stream",
     "text": [
      "200 minuts is equal to 3.3333333333333335 hours\n"
     ]
    }
   ],
   "source": [
    "# This will convert 200 minutes to hours by dividing by 60.\n",
    "minutes = 200\n",
    "hours = minutes / 60\n",
    "print(minutes, \"minuts is equal to\", hours, \"hours\")\n"
   ]
  },
  {
   "cell_type": "markdown",
   "id": "84811f3d",
   "metadata": {},
   "source": [
    "## Author\n",
    "\n",
    "PEJMAN SHAYANFARD\n"
   ]
  },
  {
   "cell_type": "code",
   "execution_count": null,
   "id": "02d7af30",
   "metadata": {},
   "outputs": [],
   "source": []
  }
 ],
 "metadata": {
  "kernelspec": {
   "display_name": "Python 3 (ipykernel)",
   "language": "python",
   "name": "python3"
  },
  "language_info": {
   "codemirror_mode": {
    "name": "ipython",
    "version": 3
   },
   "file_extension": ".py",
   "mimetype": "text/x-python",
   "name": "python",
   "nbconvert_exporter": "python",
   "pygments_lexer": "ipython3",
   "version": "3.9.12"
  }
 },
 "nbformat": 4,
 "nbformat_minor": 5
}
